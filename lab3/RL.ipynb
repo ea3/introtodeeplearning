{
  "nbformat": 4,
  "nbformat_minor": 0,
  "metadata": {
    "colab": {
      "name": "RL.ipynb",
      "provenance": [],
      "collapsed_sections": [
        "jrI6q7RmWQam"
      ]
    },
    "kernelspec": {
      "name": "python3",
      "display_name": "Python 3"
    },
    "accelerator": "GPU"
  },
  "cells": [
    {
      "cell_type": "markdown",
      "metadata": {
        "id": "jrI6q7RmWQam"
      },
      "source": [
        "<table align=\"center\">\n",
        "  <td align=\"center\"><a target=\"_blank\" href=\"http://introtodeeplearning.com\">\n",
        "        <img src=\"https://i.ibb.co/Jr88sn2/mit.png\" style=\"padding-bottom:5px;\" />\n",
        "      Visit MIT Deep Learning</a></td>\n",
        "  <td align=\"center\"><a target=\"_blank\" href=\"https://colab.research.google.com/github/aamini/introtodeeplearning/blob/master/lab3/RL.ipynb\">\n",
        "        <img src=\"https://i.ibb.co/2P3SLwK/colab.png\"  style=\"padding-bottom:5px;\" />Run in Google Colab</a></td>\n",
        "  <td align=\"center\"><a target=\"_blank\" href=\"https://github.com/aamini/introtodeeplearning/blob/master/lab3/RL.ipynb\">\n",
        "        <img src=\"https://i.ibb.co/xfJbPmL/github.png\"  height=\"70px\" style=\"padding-bottom:5px;\"  />View Source on GitHub</a></td>\n",
        "</table>\n",
        "\n",
        "# Copyright Information"
      ]
    },
    {
      "cell_type": "code",
      "metadata": {
        "id": "wkd375upWYok"
      },
      "source": [
        "# Copyright 2021 MIT 6.S191 Introduction to Deep Learning. All Rights Reserved.\n",
        "# \n",
        "# Licensed under the MIT License. You may not use this file except in compliance\n",
        "# with the License. Use and/or modification of this code outside of 6.S191 must\n",
        "# reference:\n",
        "#\n",
        "# © MIT 6.S191: Introduction to Deep Learning\n",
        "# http://introtodeeplearning.com\n",
        "#"
      ],
      "execution_count": 2,
      "outputs": []
    },
    {
      "cell_type": "markdown",
      "metadata": {
        "id": "WoXYKhfZMHiw"
      },
      "source": [
        "# Laboratory 3: Reinforcement Learning\n",
        "\n",
        "Reinforcement learning (RL) is a subset of machine learning which poses learning problems as interactions between agents and environments. It often assumes agents have no prior knowledge of a world, so they must learn to navigate environments by optimizing a reward function. Within an environment, an agent can take certain actions and receive feedback, in the form of positive or negative rewards, with respect to their decision. As such, an agent's feedback loop is somewhat akin to the idea of \"trial and error\", or the manner in which a child might learn to distinguish between \"good\" and \"bad\" actions.\n",
        "\n",
        "In practical terms, our RL agent will interact with the environment by taking an action at each timestep, receiving a corresponding reward, and updating its state according to what it has \"learned\".  \n",
        "\n",
        "![alt text](https://www.kdnuggets.com/images/reinforcement-learning-fig1-700.jpg)\n",
        "\n",
        "While the ultimate goal of reinforcement learning is to teach agents to act in the real, physical world, games provide a convenient proving ground for developing RL algorithms and agents. Games have some properties that make them particularly well suited for RL: \n",
        "\n",
        "1.   In many cases, games have perfectly describable environments. For example, all rules of chess can be formally written and programmed into a chess game simulator;\n",
        "2.   Games are massively parallelizable. Since they do not require running in the real world, simultaneous environments can be run on large data clusters; \n",
        "3.   Simpler scenarios in games enable fast prototyping. This speeds up the development of algorithms that could eventually run in the real-world; and\n",
        "4.   ... Games are fun! \n",
        "\n",
        "In previous labs, we have explored both supervised (with LSTMs, CNNs) and unsupervised / semi-supervised (with VAEs) learning tasks. Reinforcement learning is fundamentally different, in that we are training a deep learning algorithm to govern the actions of our RL agent, that is trying, within its environment, to find the optimal way to achieve a goal. The goal of training an RL agent is to determine the best next step to take to earn the greatest final payoff or return. In this lab, we focus on building a reinforcement learning algorithm to master two different environments with varying complexity. \n",
        "\n",
        "1.   **Cartpole**:   Balance a pole, protruding from a cart, in an upright position by only moving the base left or right. Environment with a low-dimensional observation space.\n",
        "2.   [**Pong**](https://en.wikipedia.org/wiki/Pong): Beat your competitors (whether other AI or humans!) at the game of Pong. Environment with a high-dimensional observation space -- learning directly from raw pixels.\n",
        "\n",
        "Let's get started! First we'll import TensorFlow, the course package, and some dependencies.\n"
      ]
    },
    {
      "cell_type": "code",
      "metadata": {
        "id": "EvdePP-VyVWp",
        "outputId": "da35e2ae-8818-4e9b-d08f-7a841489badd",
        "colab": {
          "base_uri": "https://localhost:8080/"
        }
      },
      "source": [
        "#Install some dependencies for visualizing the agents\n",
        "!apt-get install -y xvfb python-opengl x11-utils > /dev/null 2>&1\n",
        "!pip install gym pyvirtualdisplay scikit-video > /dev/null 2>&1\n",
        "\n",
        "# Import Tensorflow 2.0\n",
        "%tensorflow_version 2.x\n",
        "import tensorflow as tf\n",
        "\n",
        "import numpy as np\n",
        "import base64, io, time, gym\n",
        "import IPython, functools\n",
        "import matplotlib.pyplot as plt\n",
        "import time\n",
        "from tqdm import tqdm\n",
        "\n",
        "# Download and import the MIT 6.S191 package\n",
        "!pip install mitdeeplearning\n",
        "import mitdeeplearning as mdl"
      ],
      "execution_count": 3,
      "outputs": [
        {
          "output_type": "stream",
          "name": "stdout",
          "text": [
            "Requirement already satisfied: mitdeeplearning in /usr/local/lib/python3.7/dist-packages (0.2.0)\n",
            "Requirement already satisfied: numpy in /usr/local/lib/python3.7/dist-packages (from mitdeeplearning) (1.19.5)\n",
            "Requirement already satisfied: gym in /usr/local/lib/python3.7/dist-packages (from mitdeeplearning) (0.17.3)\n",
            "Requirement already satisfied: regex in /usr/local/lib/python3.7/dist-packages (from mitdeeplearning) (2019.12.20)\n",
            "Requirement already satisfied: tqdm in /usr/local/lib/python3.7/dist-packages (from mitdeeplearning) (4.62.3)\n",
            "Requirement already satisfied: cloudpickle<1.7.0,>=1.2.0 in /usr/local/lib/python3.7/dist-packages (from gym->mitdeeplearning) (1.3.0)\n",
            "Requirement already satisfied: scipy in /usr/local/lib/python3.7/dist-packages (from gym->mitdeeplearning) (1.4.1)\n",
            "Requirement already satisfied: pyglet<=1.5.0,>=1.4.0 in /usr/local/lib/python3.7/dist-packages (from gym->mitdeeplearning) (1.5.0)\n",
            "Requirement already satisfied: future in /usr/local/lib/python3.7/dist-packages (from pyglet<=1.5.0,>=1.4.0->gym->mitdeeplearning) (0.16.0)\n"
          ]
        }
      ]
    },
    {
      "cell_type": "markdown",
      "metadata": {
        "id": "zmrHSiXKTXTY"
      },
      "source": [
        "Before we dive in, let's take a step back and outline our approach, which is generally applicable to reinforcement learning problems in general:\n",
        "\n",
        "1. **Initialize our environment and our agent**: here we will describe the different observations and actions the agent can make in the environemnt.\n",
        "2. **Define our agent's memory**: this will enable the agent to remember its past actions, observations, and rewards.\n",
        "3. **Define a reward function**: describes the reward associated with an action or sequence of actions.\n",
        "4. **Define the learning algorithm**: this will be used to reinforce the agent's good behaviors and discourage bad behaviors.\n"
      ]
    },
    {
      "cell_type": "markdown",
      "metadata": {
        "id": "UT7YL8KBJIIc"
      },
      "source": [
        "# Part 1: Cartpole\n",
        "\n",
        "## 3.1 Define the Cartpole environment and agent\n",
        "\n",
        "### Environment \n",
        "\n",
        "In order to model the environment for both the Cartpole and Pong tasks, we'll be using a toolkit developed by OpenAI called [OpenAI Gym](https://gym.openai.com/). It provides several pre-defined environments for training and testing reinforcement learning agents, including those for classic physics control tasks, Atari video games, and robotic simulations. To access the Cartpole environment, we can use `env = gym.make(\"CartPole-v0\")`, which we gained access to when we imported the `gym` package. We can instantiate different [environments](https://gym.openai.com/envs/#classic_control) by passing the enivronment name to the `make` function.\n",
        "\n",
        "One issue we might experience when developing RL algorithms is that many aspects of the learning process are inherently random: initializing game states, changes in the environment, and the agent's actions. As such, it can be helpful to set a initial \"seed\" for the environment to ensure some level of reproducibility. Much like you might use `numpy.random.seed`, we can call the comparable function in gym, `seed`, with our defined environment to ensure the environment's random variables are initialized the same each time."
      ]
    },
    {
      "cell_type": "code",
      "metadata": {
        "id": "quv9SC0iIYFm",
        "outputId": "3d3bc2e4-5e46-495c-fae1-c6c3b81c93e8",
        "colab": {
          "base_uri": "https://localhost:8080/"
        }
      },
      "source": [
        "### Instantiate the Cartpole environment ###\n",
        "\n",
        "env = gym.make(\"CartPole-v0\")\n",
        "env.seed(1)"
      ],
      "execution_count": 4,
      "outputs": [
        {
          "output_type": "execute_result",
          "data": {
            "text/plain": [
              "[1]"
            ]
          },
          "metadata": {},
          "execution_count": 4
        }
      ]
    },
    {
      "cell_type": "markdown",
      "metadata": {
        "id": "mhEITUcKK455"
      },
      "source": [
        "In Cartpole, a pole is attached by an un-actuated joint to a cart, which moves along a frictionless track. The pole starts upright, and the goal is to prevent it from falling over. The system is controlled by applying a force of +1 or -1 to the cart. A reward of +1 is provided for every timestep that the pole remains upright. The episode ends when the pole is more than 15 degrees from vertical, or the cart moves more than 2.4 units from the center of the track. A visual summary of the cartpole environment is depicted below:\n",
        "\n",
        "<img width=\"400px\" src=\"https://danielpiedrahita.files.wordpress.com/2017/02/cart-pole.png\"></img>\n",
        "\n",
        "Given this setup for the environment and the objective of the game, we can think about: 1) what observations help define the environment's state; 2) what actions the agent can take. \n",
        "\n",
        "First, let's consider the observation space. In this Cartpole environment our observations are:\n",
        "\n",
        "1. Cart position\n",
        "2. Cart velocity\n",
        "3. Pole angle\n",
        "4. Pole rotation rate\n",
        "\n",
        "We can confirm the size of the space by querying the environment's observation space:\n"
      ]
    },
    {
      "cell_type": "code",
      "metadata": {
        "id": "UVJaEcbdIX82",
        "outputId": "ec73e3b6-c0e6-4776-dfe1-51b158b5b218",
        "colab": {
          "base_uri": "https://localhost:8080/"
        }
      },
      "source": [
        "n_observations = env.observation_space\n",
        "print(\"Environment has observation space =\", n_observations)"
      ],
      "execution_count": 5,
      "outputs": [
        {
          "output_type": "stream",
          "name": "stdout",
          "text": [
            "Environment has observation space = Box(-3.4028234663852886e+38, 3.4028234663852886e+38, (4,), float32)\n"
          ]
        }
      ]
    },
    {
      "cell_type": "markdown",
      "metadata": {
        "id": "ZibGgjrALgPM"
      },
      "source": [
        "Second, we consider the action space. At every time step, the agent can move either right or left. Again we can confirm the size of the action space by querying the environment:"
      ]
    },
    {
      "cell_type": "code",
      "metadata": {
        "id": "qc9SIPxBIXrm",
        "outputId": "1d460048-a267-4013-9617-aef6414b268b",
        "colab": {
          "base_uri": "https://localhost:8080/"
        }
      },
      "source": [
        "n_actions = env.action_space.n\n",
        "print(\"Number of possible actions that the agent can choose from =\", n_actions)"
      ],
      "execution_count": 6,
      "outputs": [
        {
          "output_type": "stream",
          "name": "stdout",
          "text": [
            "Number of possible actions that the agent can choose from = 2\n"
          ]
        }
      ]
    },
    {
      "cell_type": "markdown",
      "metadata": {
        "id": "pPfHME8aRKkb"
      },
      "source": [
        "### Cartpole agent\n",
        "\n",
        "Now that we have instantiated the environment and understood the dimensionality of the observation and action spaces, we are ready to define our agent. In deep reinforcement learning, a deep neural network defines the agent. This network will take as input an observation of the environment and output the probability of taking each of the possible actions. Since Cartpole is defined by a low-dimensional observation space, a simple feed-forward neural network should work well for our agent. We will define this using the `Sequential` API.\n"
      ]
    },
    {
      "cell_type": "code",
      "metadata": {
        "id": "W-o_XK4oQ4eu"
      },
      "source": [
        "### Define the Cartpole agent ###\n",
        "\n",
        "# Defines a feed-forward neural network\n",
        "def create_cartpole_model():\n",
        "  model = tf.keras.models.Sequential([\n",
        "      # First Dense layer\n",
        "      tf.keras.layers.Dense(units=32, activation='relu'),\n",
        "\n",
        "      # TODO: Define the last Dense layer, which will provide the network's output.\n",
        "      # Think about the space the agent needs to act in!\n",
        "      tf.keras.layers.Dense(units=n_actions, activation=None)\n",
        "      # [TODO Dense layer to output action probabilities]\n",
        "  ])\n",
        "  return model\n",
        "\n",
        "cartpole_model = create_cartpole_model()"
      ],
      "execution_count": 7,
      "outputs": []
    },
    {
      "cell_type": "markdown",
      "metadata": {
        "id": "d5D5NSIYS2IW"
      },
      "source": [
        "Now that we have defined the core network architecture, we will define an *action function* that executes a forward pass through the network, given a set of observations, and samples from the output. This sampling from the output probabilities will be used to select the next action for the agent. We will also add support so that the `choose_action` function can handle either a single observation or a batch of observations.\n",
        "\n",
        "**Critically, this action function is totally general -- we will use this function for both Cartpole and Pong, and it is applicable to other RL tasks, as well!**"
      ]
    },
    {
      "cell_type": "code",
      "metadata": {
        "id": "E_vVZRr8Q4R_"
      },
      "source": [
        "### Define the agent's action function ###\n",
        "\n",
        "# Function that takes observations as input, executes a forward pass through model, \n",
        "#   and outputs a sampled action.\n",
        "# Arguments:\n",
        "#   model: the network that defines our agent\n",
        "#   observation: observation(s) which is/are fed as input to the model\n",
        "#   single: flag as to whether we are handling a single observation or batch of\n",
        "#     observations, provided as an np.array\n",
        "# Returns:\n",
        "#   action: choice of agent action\n",
        "def choose_action(model, observation, single=True):\n",
        "  # add batch dimension to the observation if only a single example was provided\n",
        "  observation = np.expand_dims(observation, axis=0) if single else observation\n",
        "\n",
        "  '''TODO: feed the observations through the model to predict the log probabilities of each possible action.'''\n",
        "  logits = model.predict(observation) \n",
        "\n",
        "  \n",
        "  '''TODO: Choose an action from the categorical distribution defined by the log \n",
        "      probabilities of each possible action.'''\n",
        "  action = tf.random.categorical(logits, num_samples=1)\n",
        " \n",
        "\n",
        "  action = action.numpy().flatten()\n",
        "\n",
        "  return action[0] if single else action"
      ],
      "execution_count": 8,
      "outputs": []
    },
    {
      "cell_type": "markdown",
      "metadata": {
        "id": "_tR9uAWcTnkr"
      },
      "source": [
        "## 3.2 Define the agent's memory\n",
        "\n",
        "Now that we have instantiated the environment and defined the agent network architecture and action function, we are ready to move on to the next step in our RL workflow:\n",
        "1. **Initialize our environment and our agent**: here we will describe the different observations and actions the agent can make in the environemnt.\n",
        "2. **Define our agent's memory**: this will enable the agent to remember its past actions, observations, and rewards.\n",
        "3. **Define the learning algorithm**: this will be used to reinforce the agent's good behaviors and discourage bad behaviors.\n",
        "\n",
        "In reinforcement learning, training occurs alongside the agent's acting in the environment; an *episode* refers to a sequence of actions that ends in some terminal state, such as the pole falling down or the cart crashing. The agent will need to remember all of its observations and actions, such that once an episode ends, it can learn to \"reinforce\" the good actions and punish the undesirable actions via training. Our first step is to define a simple `Memory` buffer that contains the agent's observations, actions, and received rewards from a given episode. We will also add support to combine a list of `Memory` objects into a single `Memory`. This will be very useful for batching, which will help you accelerate training later on in the lab.\n",
        "\n",
        "**Once again, note the modularity of this memory buffer -- it can and will be applied to other RL tasks as well!**"
      ]
    },
    {
      "cell_type": "code",
      "metadata": {
        "id": "8MM6JwXVQ4JG"
      },
      "source": [
        "### Agent Memory ###\n",
        "\n",
        "class Memory:\n",
        "  def __init__(self): \n",
        "      self.clear()\n",
        "\n",
        "  # Resets/restarts the memory buffer\n",
        "  def clear(self): \n",
        "      self.observations = []\n",
        "      self.actions = []\n",
        "      self.rewards = []\n",
        "\n",
        "  # Add observations, actions, rewards to memory\n",
        "  def add_to_memory(self, new_observation, new_action, new_reward): \n",
        "      self.observations.append(new_observation)\n",
        "      self.actions.append(new_action) \n",
        "      self.rewards.append(new_reward) \n",
        "\n",
        "\n",
        "# Helper function to combine a list of Memory objects into a single Memory.\n",
        "#     This will be very useful for batching.\n",
        "def aggregate_memories(memories):\n",
        "  batch_memory = Memory()\n",
        "  \n",
        "  for memory in memories:\n",
        "    for step in zip(memory.observations, memory.actions, memory.rewards):\n",
        "      batch_memory.add_to_memory(*step)\n",
        "  \n",
        "  return batch_memory\n",
        "\n",
        "# Instantiate a single Memory buffer\n",
        "memory = Memory()"
      ],
      "execution_count": 9,
      "outputs": []
    },
    {
      "cell_type": "markdown",
      "metadata": {
        "id": "D4YhtPaUVj5m"
      },
      "source": [
        "## 3.3 Reward function\n",
        "\n",
        "We're almost ready to begin the learning algorithm for our agent! The next step is to compute the rewards of our agent as it acts in the environment. Since we (and the agent) is uncertain about if and when the game or task will end (i.e., when the pole will fall), it is useful to emphasize getting rewards **now** rather than later in the future -- this is the idea of discounting. This is a similar concept to discounting money in the case of interest. ecall from lecture, we use reward discount to give more preference at getting rewards now rather than later in the future. The idea of discounting rewards is similar to discounting money in the case of interest.\n",
        "\n",
        "To compute the expected cumulative reward, known as the **return**, at a given timestep in a learning episode, we sum the discounted rewards expected at that time step $t$, within a learning episode, and projecting into the future. We define the return (cumulative reward) at a time step $t$, $R_{t}$ as:\n",
        "\n",
        ">$R_{t}=\\sum_{k=0}^\\infty\\gamma^kr_{t+k}$\n",
        "\n",
        "where  $0 < \\gamma < 1$ is the discount factor and $r_{t}$ is the reward at time step $t$, and the index $k$ increments projection into the future within a single learning episode. Intuitively, you can think of this function as depreciating any rewards received at later time steps, which will force the agent prioritize getting rewards now. Since we can't extend episodes to infinity, in practice the computation will be limited to the number of timesteps in an episode -- after that the reward is assumed to be zero.\n",
        "\n",
        "Take note of the form of this sum -- we'll have to be clever about how we implement this function. Specifically, we'll need to initialize an array of zeros, with length of the number of time steps, and fill it with the real discounted reward values as we loop through the rewards from the episode, which will have been saved in the agents memory. What we ultimately care about is which actions are better relative to other actions taken in that episode -- so, we'll normalize our computed rewards, using the mean and standard deviation of the rewards across the learning episode.\n"
      ]
    },
    {
      "cell_type": "code",
      "metadata": {
        "id": "5_Q2OFYtQ32X"
      },
      "source": [
        "### Reward function ###\n",
        "\n",
        "# Helper function that normalizes an np.array x\n",
        "def normalize(x):\n",
        "  x -= np.mean(x)\n",
        "  x /= np.std(x)\n",
        "  return x.astype(np.float32)\n",
        "\n",
        "# Compute normalized, discounted, cumulative rewards (i.e., return)\n",
        "# Arguments:\n",
        "#   rewards: reward at timesteps in episode\n",
        "#   gamma: discounting factor\n",
        "# Returns:\n",
        "#   normalized discounted reward\n",
        "def discount_rewards(rewards, gamma=0.95): \n",
        "  discounted_rewards = np.zeros_like(rewards)\n",
        "  R = 0\n",
        "  for t in reversed(range(0, len(rewards))):\n",
        "      # update the total discounted reward\n",
        "      R = R * gamma + rewards[t]\n",
        "      discounted_rewards[t] = R\n",
        "      \n",
        "  return normalize(discounted_rewards)"
      ],
      "execution_count": 10,
      "outputs": []
    },
    {
      "cell_type": "markdown",
      "metadata": {
        "id": "QzbY-mjGYcmt"
      },
      "source": [
        "## 3.4 Learning algorithm\n",
        "\n",
        "Now we can start to define the learing algorithm which will be used to reinforce good behaviors of the agent and discourage bad behaviours. In this lab, we will focus on *policy gradient* methods which aim to **maximize** the likelihood of actions that result in large rewards. Equivalently, this means that we want to **minimize** the negative likelihood of these same actions. We achieve this by simply **scaling** the probabilities by their associated rewards -- effectively amplifying the likelihood of actions that resujlt in large rewards.\n",
        "\n",
        "Since the log function is monotonically increasing, this means that minimizing **negative likelihood** is equivalent to minimizing **negative log-likelihood**.  Recall that we can easily compute the negative log-likelihood of a discrete action by evaluting its [softmax cross entropy](https://www.tensorflow.org/api_docs/python/tf/nn/sparse_softmax_cross_entropy_with_logits). Like in supervised learning, we can use stochastic gradient descent methods to achieve the desired minimization. \n",
        "\n",
        "Let's begin by defining the loss function."
      ]
    },
    {
      "cell_type": "code",
      "metadata": {
        "id": "fsgZ3IDCY_Zn"
      },
      "source": [
        "### Loss function ###\n",
        "\n",
        "# Arguments:\n",
        "#   logits: network's predictions for actions to take\n",
        "#   actions: the actions the agent took in an episode\n",
        "#   rewards: the rewards the agent received in an episode\n",
        "# Returns:\n",
        "#   loss\n",
        "def compute_loss(logits, actions, rewards): \n",
        "  '''TODO: complete the function call to compute the negative log probabilities'''\n",
        "  neg_logprob = tf.nn.sparse_softmax_cross_entropy_with_logits(\n",
        "      logits=logits, labels=actions) \n",
        "  \n",
        "  '''TODO: scale the negative log probability by the rewards'''\n",
        "  loss = tf.reduce_mean( neg_logprob * rewards ) \n",
        "  return loss"
      ],
      "execution_count": 11,
      "outputs": []
    },
    {
      "cell_type": "markdown",
      "metadata": {
        "id": "Rr5vQ9fqbPpp"
      },
      "source": [
        "Now let's use the loss function to define a training step of our learning algorithm:"
      ]
    },
    {
      "cell_type": "code",
      "metadata": {
        "id": "_50ada7nbZ7L"
      },
      "source": [
        "### Training step (forward and backpropagation) ###\n",
        "\n",
        "def train_step(model, optimizer, observations, actions, discounted_rewards):\n",
        "  with tf.GradientTape() as tape:\n",
        "      # Forward propagate through the agent network\n",
        "      logits = model(observations)\n",
        "\n",
        "      '''TODO: call the compute_loss function to compute the loss'''\n",
        "      loss = compute_loss(logits, actions, discounted_rewards) \n",
        "\n",
        "  '''TODO: run backpropagation to minimize the loss using the tape.gradient method'''\n",
        "  grads = tape.gradient(loss, model.trainable_variables) \n",
        "  # grads = tape.gradient('''TODO''', model.trainable_variables)\n",
        "  optimizer.apply_gradients(zip(grads, model.trainable_variables))\n"
      ],
      "execution_count": 12,
      "outputs": []
    },
    {
      "cell_type": "markdown",
      "metadata": {
        "id": "XsjKXh6BcgjR"
      },
      "source": [
        "## 3.5 Run cartpole!\n",
        "\n",
        "Having had no prior knowledge of the environment, the agent will begin to learn how to balance the pole on the cart based only on the feedback received from the environment! Having defined how our agent can move, how it takes in new observations, and how it updates its state, we'll see how it gradually learns a policy of actions to optimize balancing the pole as long as possible. To do this, we'll track how the rewards evolve as a function of training -- how should the rewards change as training progresses?"
      ]
    },
    {
      "cell_type": "code",
      "metadata": {
        "id": "XmOzc2rrcn8Q",
        "outputId": "564376df-4c85-48b5-9e5d-21c282ce86d7",
        "colab": {
          "base_uri": "https://localhost:8080/",
          "height": 541
        }
      },
      "source": [
        "### Cartpole training! ###\n",
        "\n",
        "# Learning rate and optimizer\n",
        "learning_rate = 1e-3\n",
        "optimizer = tf.keras.optimizers.Adam(learning_rate)\n",
        "\n",
        "# instantiate cartpole agent\n",
        "cartpole_model = create_cartpole_model()\n",
        "\n",
        "# to track our progress\n",
        "smoothed_reward = mdl.util.LossHistory(smoothing_factor=0.9)\n",
        "plotter = mdl.util.PeriodicPlotter(sec=2, xlabel='Iterations', ylabel='Rewards')\n",
        "\n",
        "if hasattr(tqdm, '_instances'): tqdm._instances.clear() # clear if it exists\n",
        "for i_episode in range(500):\n",
        "\n",
        "  plotter.plot(smoothed_reward.get())\n",
        "\n",
        "  # Restart the environment\n",
        "  observation = env.reset()\n",
        "  memory.clear()\n",
        "\n",
        "  while True:\n",
        "      # using our observation, choose an action and take it in the environment\n",
        "      action = choose_action(cartpole_model, observation)\n",
        "      next_observation, reward, done, info = env.step(action)\n",
        "      # add to memory\n",
        "      memory.add_to_memory(observation, action, reward)\n",
        "      \n",
        "      # is the episode over? did you crash or do so well that you're done?\n",
        "      if done:\n",
        "          # determine total reward and keep a record of this\n",
        "          total_reward = sum(memory.rewards)\n",
        "          smoothed_reward.append(total_reward)\n",
        "          \n",
        "          # initiate training - remember we don't know anything about how the \n",
        "          #   agent is doing until it has crashed!\n",
        "          train_step(cartpole_model, optimizer, \n",
        "                     observations=np.vstack(memory.observations),\n",
        "                     actions=np.array(memory.actions),\n",
        "                     discounted_rewards = discount_rewards(memory.rewards))\n",
        "          \n",
        "          # reset the memory\n",
        "          memory.clear()\n",
        "          break\n",
        "      # update our observatons\n",
        "      observation = next_observation"
      ],
      "execution_count": 13,
      "outputs": [
        {
          "output_type": "display_data",
          "data": {
            "image/png": "[encoded data removed]",
            "text/plain": [
              "<Figure size 432x288 with 1 Axes>"
            ]
          },
          "metadata": {}
        },
        {
          "output_type": "display_data",
          "data": {
            "image/png": "[encoded data removed]",
            "text/plain": [
              "<Figure size 432x288 with 1 Axes>"
            ]
          },
          "metadata": {
            "needs_background": "light"
          }
        }
      ]
    },
    {
      "cell_type": "markdown",
      "metadata": {
        "id": "mkcUtGF1VE-K"
      },
      "source": [
        "To get a sense of how our agent did, we can save a video of the trained model working on balancing the pole. Realize that this is a brand new environment that the agent has not seen before!\n",
        "\n",
        "Let's display the saved video to watch how our agent did!\n"
      ]
    },
    {
      "cell_type": "code",
      "metadata": {
        "id": "PAYBkv6Zbk0J",
        "outputId": "a2e7cd82-9a34-4bdd-bf65-f0108f945129",
        "colab": {
          "base_uri": "https://localhost:8080/",
          "height": 439
        }
      },
      "source": [
        "saved_cartpole = mdl.lab3.save_video_of_model(cartpole_model, \"CartPole-v0\")\n",
        "mdl.lab3.play_video(saved_cartpole)"
      ],
      "execution_count": 14,
      "outputs": [
        {
          "output_type": "stream",
          "name": "stdout",
          "text": [
            "Successfully saved 119 frames into CartPole-v0.mp4!\n"
          ]
        },
        {
          "output_type": "execute_result",
          "data": {
            "text/html": [
              "\n",
              "        <video controls >\n",
              "            <source src=\"data:video/mp4;base64,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\" type=\"video/mp4\" />\n",
              "        </video>"
            ],
            "text/plain": [
              "<IPython.core.display.HTML object>"
            ]
          },
          "metadata": {},
          "execution_count": 14
        }
      ]
    },
    {
      "cell_type": "markdown",
      "metadata": {
        "id": "CSbVNDpaVb3_"
      },
      "source": [
        "How does the agent perform? Could you train it for shorter amounts of time and still perform well? Do you think that training longer would help even more? "
      ]
    },
    {
      "cell_type": "markdown",
      "metadata": {
        "id": "Eu6Mqxc720ST"
      },
      "source": [
        "#Part 2: Pong\n",
        "\n",
        "In Cartpole, we dealt with an environment that was static -- in other words, it didn't change over time. What happens if our environment is dynamic and unpredictable? Well that's exactly the case in [Pong](https://en.wikipedia.org/wiki/Pong), since part of the environment is the opposing player. We don't know how our opponent will act or react to our actions, so the complexity of our problem increases. It also becomes much more interesting, since we can compete to beat our opponent. RL provides a powerful framework for training AI systems with the ability to handle and interact with dynamic, unpredictable environments. In this part of the lab, we'll use the tools and workflow we explored in Part 1 to build an RL agent capable of playing the game of Pong.\n"
      ]
    },
    {
      "cell_type": "markdown",
      "metadata": {
        "id": "srZ4YE29isuA"
      },
      "source": [
        "## 3.6 Define and inspect the Pong environment\n",
        "\n",
        "As with Cartpole, we'll instantiate the Pong environment in the OpenAI gym, using a seed of 1."
      ]
    },
    {
      "cell_type": "code",
      "metadata": {
        "id": "lbYHLr66i15n",
        "outputId": "ae93e781-cc3d-43c2-978a-c4937e93ce52",
        "colab": {
          "base_uri": "https://localhost:8080/",
          "height": 416
        }
      },
      "source": [
        "def create_pong_env(): \n",
        "  return gym.make(\"Pong-v0\", frameskip=5)\n",
        "env = create_pong_env()\n",
        "env.seed(1); # for reproducibility"
      ],
      "execution_count": 15,
      "outputs": [
        {
          "output_type": "error",
          "ename": "Exception",
          "evalue": "ignored",
          "traceback": [
            "\u001b[0;31m---------------------------------------------------------------------------\u001b[0m",
            "\u001b[0;31mException\u001b[0m                                 Traceback (most recent call last)",
            "\u001b[0;32m<ipython-input-15-7af2597d0a5a>\u001b[0m in \u001b[0;36m<module>\u001b[0;34m()\u001b[0m\n\u001b[1;32m      1\u001b[0m \u001b[0;32mdef\u001b[0m \u001b[0mcreate_pong_env\u001b[0m\u001b[0;34m(\u001b[0m\u001b[0;34m)\u001b[0m\u001b[0;34m:\u001b[0m\u001b[0;34m\u001b[0m\u001b[0;34m\u001b[0m\u001b[0m\n\u001b[1;32m      2\u001b[0m   \u001b[0;32mreturn\u001b[0m \u001b[0mgym\u001b[0m\u001b[0;34m.\u001b[0m\u001b[0mmake\u001b[0m\u001b[0;34m(\u001b[0m\u001b[0;34m\"Pong-v0\"\u001b[0m\u001b[0;34m,\u001b[0m \u001b[0mframeskip\u001b[0m\u001b[0;34m=\u001b[0m\u001b[0;36m5\u001b[0m\u001b[0;34m)\u001b[0m\u001b[0;34m\u001b[0m\u001b[0;34m\u001b[0m\u001b[0m\n\u001b[0;32m----> 3\u001b[0;31m \u001b[0menv\u001b[0m \u001b[0;34m=\u001b[0m \u001b[0mcreate_pong_env\u001b[0m\u001b[0;34m(\u001b[0m\u001b[0;34m)\u001b[0m\u001b[0;34m\u001b[0m\u001b[0;34m\u001b[0m\u001b[0m\n\u001b[0m\u001b[1;32m      4\u001b[0m \u001b[0menv\u001b[0m\u001b[0;34m.\u001b[0m\u001b[0mseed\u001b[0m\u001b[0;34m(\u001b[0m\u001b[0;36m1\u001b[0m\u001b[0;34m)\u001b[0m\u001b[0;34m;\u001b[0m \u001b[0;31m# for reproducibility\u001b[0m\u001b[0;34m\u001b[0m\u001b[0;34m\u001b[0m\u001b[0m\n",
            "\u001b[0;32m<ipython-input-15-7af2597d0a5a>\u001b[0m in \u001b[0;36mcreate_pong_env\u001b[0;34m()\u001b[0m\n\u001b[1;32m      1\u001b[0m \u001b[0;32mdef\u001b[0m \u001b[0mcreate_pong_env\u001b[0m\u001b[0;34m(\u001b[0m\u001b[0;34m)\u001b[0m\u001b[0;34m:\u001b[0m\u001b[0;34m\u001b[0m\u001b[0;34m\u001b[0m\u001b[0m\n\u001b[0;32m----> 2\u001b[0;31m   \u001b[0;32mreturn\u001b[0m \u001b[0mgym\u001b[0m\u001b[0;34m.\u001b[0m\u001b[0mmake\u001b[0m\u001b[0;34m(\u001b[0m\u001b[0;34m\"Pong-v0\"\u001b[0m\u001b[0;34m,\u001b[0m \u001b[0mframeskip\u001b[0m\u001b[0;34m=\u001b[0m\u001b[0;36m5\u001b[0m\u001b[0;34m)\u001b[0m\u001b[0;34m\u001b[0m\u001b[0;34m\u001b[0m\u001b[0m\n\u001b[0m\u001b[1;32m      3\u001b[0m \u001b[0menv\u001b[0m \u001b[0;34m=\u001b[0m \u001b[0mcreate_pong_env\u001b[0m\u001b[0;34m(\u001b[0m\u001b[0;34m)\u001b[0m\u001b[0;34m\u001b[0m\u001b[0;34m\u001b[0m\u001b[0m\n\u001b[1;32m      4\u001b[0m \u001b[0menv\u001b[0m\u001b[0;34m.\u001b[0m\u001b[0mseed\u001b[0m\u001b[0;34m(\u001b[0m\u001b[0;36m1\u001b[0m\u001b[0;34m)\u001b[0m\u001b[0;34m;\u001b[0m \u001b[0;31m# for reproducibility\u001b[0m\u001b[0;34m\u001b[0m\u001b[0;34m\u001b[0m\u001b[0m\n",
            "\u001b[0;32m/usr/local/lib/python3.7/dist-packages/gym/envs/registration.py\u001b[0m in \u001b[0;36mmake\u001b[0;34m(id, **kwargs)\u001b[0m\n\u001b[1;32m    143\u001b[0m \u001b[0;34m\u001b[0m\u001b[0m\n\u001b[1;32m    144\u001b[0m \u001b[0;32mdef\u001b[0m \u001b[0mmake\u001b[0m\u001b[0;34m(\u001b[0m\u001b[0mid\u001b[0m\u001b[0;34m,\u001b[0m \u001b[0;34m**\u001b[0m\u001b[0mkwargs\u001b[0m\u001b[0;34m)\u001b[0m\u001b[0;34m:\u001b[0m\u001b[0;34m\u001b[0m\u001b[0;34m\u001b[0m\u001b[0m\n\u001b[0;32m--> 145\u001b[0;31m     \u001b[0;32mreturn\u001b[0m \u001b[0mregistry\u001b[0m\u001b[0;34m.\u001b[0m\u001b[0mmake\u001b[0m\u001b[0;34m(\u001b[0m\u001b[0mid\u001b[0m\u001b[0;34m,\u001b[0m \u001b[0;34m**\u001b[0m\u001b[0mkwargs\u001b[0m\u001b[0;34m)\u001b[0m\u001b[0;34m\u001b[0m\u001b[0;34m\u001b[0m\u001b[0m\n\u001b[0m\u001b[1;32m    146\u001b[0m \u001b[0;34m\u001b[0m\u001b[0m\n\u001b[1;32m    147\u001b[0m \u001b[0;32mdef\u001b[0m \u001b[0mspec\u001b[0m\u001b[0;34m(\u001b[0m\u001b[0mid\u001b[0m\u001b[0;34m)\u001b[0m\u001b[0;34m:\u001b[0m\u001b[0;34m\u001b[0m\u001b[0;34m\u001b[0m\u001b[0m\n",
            "\u001b[0;32m/usr/local/lib/python3.7/dist-packages/gym/envs/registration.py\u001b[0m in \u001b[0;36mmake\u001b[0;34m(self, path, **kwargs)\u001b[0m\n\u001b[1;32m     88\u001b[0m             \u001b[0mlogger\u001b[0m\u001b[0;34m.\u001b[0m\u001b[0minfo\u001b[0m\u001b[0;34m(\u001b[0m\u001b[0;34m'Making new env: %s'\u001b[0m\u001b[0;34m,\u001b[0m \u001b[0mpath\u001b[0m\u001b[0;34m)\u001b[0m\u001b[0;34m\u001b[0m\u001b[0;34m\u001b[0m\u001b[0m\n\u001b[1;32m     89\u001b[0m         \u001b[0mspec\u001b[0m \u001b[0;34m=\u001b[0m \u001b[0mself\u001b[0m\u001b[0;34m.\u001b[0m\u001b[0mspec\u001b[0m\u001b[0;34m(\u001b[0m\u001b[0mpath\u001b[0m\u001b[0;34m)\u001b[0m\u001b[0;34m\u001b[0m\u001b[0;34m\u001b[0m\u001b[0m\n\u001b[0;32m---> 90\u001b[0;31m         \u001b[0menv\u001b[0m \u001b[0;34m=\u001b[0m \u001b[0mspec\u001b[0m\u001b[0;34m.\u001b[0m\u001b[0mmake\u001b[0m\u001b[0;34m(\u001b[0m\u001b[0;34m**\u001b[0m\u001b[0mkwargs\u001b[0m\u001b[0;34m)\u001b[0m\u001b[0;34m\u001b[0m\u001b[0;34m\u001b[0m\u001b[0m\n\u001b[0m\u001b[1;32m     91\u001b[0m         \u001b[0;31m# We used to have people override _reset/_step rather than\u001b[0m\u001b[0;34m\u001b[0m\u001b[0;34m\u001b[0m\u001b[0;34m\u001b[0m\u001b[0m\n\u001b[1;32m     92\u001b[0m         \u001b[0;31m# reset/step. Set _gym_disable_underscore_compat = True on\u001b[0m\u001b[0;34m\u001b[0m\u001b[0;34m\u001b[0m\u001b[0;34m\u001b[0m\u001b[0m\n",
            "\u001b[0;32m/usr/local/lib/python3.7/dist-packages/gym/envs/registration.py\u001b[0m in \u001b[0;36mmake\u001b[0;34m(self, **kwargs)\u001b[0m\n\u001b[1;32m     58\u001b[0m         \u001b[0;32melse\u001b[0m\u001b[0;34m:\u001b[0m\u001b[0;34m\u001b[0m\u001b[0;34m\u001b[0m\u001b[0m\n\u001b[1;32m     59\u001b[0m             \u001b[0mcls\u001b[0m \u001b[0;34m=\u001b[0m \u001b[0mload\u001b[0m\u001b[0;34m(\u001b[0m\u001b[0mself\u001b[0m\u001b[0;34m.\u001b[0m\u001b[0mentry_point\u001b[0m\u001b[0;34m)\u001b[0m\u001b[0;34m\u001b[0m\u001b[0;34m\u001b[0m\u001b[0m\n\u001b[0;32m---> 60\u001b[0;31m             \u001b[0menv\u001b[0m \u001b[0;34m=\u001b[0m \u001b[0mcls\u001b[0m\u001b[0;34m(\u001b[0m\u001b[0;34m**\u001b[0m\u001b[0m_kwargs\u001b[0m\u001b[0;34m)\u001b[0m\u001b[0;34m\u001b[0m\u001b[0;34m\u001b[0m\u001b[0m\n\u001b[0m\u001b[1;32m     61\u001b[0m \u001b[0;34m\u001b[0m\u001b[0m\n\u001b[1;32m     62\u001b[0m         \u001b[0;31m# Make the environment aware of which spec it came from.\u001b[0m\u001b[0;34m\u001b[0m\u001b[0;34m\u001b[0m\u001b[0;34m\u001b[0m\u001b[0m\n",
            "\u001b[0;32m/usr/local/lib/python3.7/dist-packages/gym/envs/atari/atari_env.py\u001b[0m in \u001b[0;36m__init__\u001b[0;34m(self, game, mode, difficulty, obs_type, frameskip, repeat_action_probability, full_action_space)\u001b[0m\n\u001b[1;32m     47\u001b[0m \u001b[0;34m\u001b[0m\u001b[0m\n\u001b[1;32m     48\u001b[0m         \u001b[0mself\u001b[0m\u001b[0;34m.\u001b[0m\u001b[0mgame\u001b[0m \u001b[0;34m=\u001b[0m \u001b[0mgame\u001b[0m\u001b[0;34m\u001b[0m\u001b[0;34m\u001b[0m\u001b[0m\n\u001b[0;32m---> 49\u001b[0;31m         \u001b[0mself\u001b[0m\u001b[0;34m.\u001b[0m\u001b[0mgame_path\u001b[0m \u001b[0;34m=\u001b[0m \u001b[0matari_py\u001b[0m\u001b[0;34m.\u001b[0m\u001b[0mget_game_path\u001b[0m\u001b[0;34m(\u001b[0m\u001b[0mgame\u001b[0m\u001b[0;34m)\u001b[0m\u001b[0;34m\u001b[0m\u001b[0;34m\u001b[0m\u001b[0m\n\u001b[0m\u001b[1;32m     50\u001b[0m         \u001b[0mself\u001b[0m\u001b[0;34m.\u001b[0m\u001b[0mgame_mode\u001b[0m \u001b[0;34m=\u001b[0m \u001b[0mmode\u001b[0m\u001b[0;34m\u001b[0m\u001b[0;34m\u001b[0m\u001b[0m\n\u001b[1;32m     51\u001b[0m         \u001b[0mself\u001b[0m\u001b[0;34m.\u001b[0m\u001b[0mgame_difficulty\u001b[0m \u001b[0;34m=\u001b[0m \u001b[0mdifficulty\u001b[0m\u001b[0;34m\u001b[0m\u001b[0;34m\u001b[0m\u001b[0m\n",
            "\u001b[0;32m/usr/local/lib/python3.7/dist-packages/atari_py/games.py\u001b[0m in \u001b[0;36mget_game_path\u001b[0;34m(game_name)\u001b[0m\n\u001b[1;32m     18\u001b[0m     \u001b[0mpath\u001b[0m \u001b[0;34m=\u001b[0m \u001b[0mos\u001b[0m\u001b[0;34m.\u001b[0m\u001b[0mpath\u001b[0m\u001b[0;34m.\u001b[0m\u001b[0mjoin\u001b[0m\u001b[0;34m(\u001b[0m\u001b[0m_games_dir\u001b[0m\u001b[0;34m,\u001b[0m \u001b[0mgame_name\u001b[0m\u001b[0;34m)\u001b[0m \u001b[0;34m+\u001b[0m \u001b[0;34m\".bin\"\u001b[0m\u001b[0;34m\u001b[0m\u001b[0;34m\u001b[0m\u001b[0m\n\u001b[1;32m     19\u001b[0m     \u001b[0;32mif\u001b[0m \u001b[0;32mnot\u001b[0m \u001b[0mos\u001b[0m\u001b[0;34m.\u001b[0m\u001b[0mpath\u001b[0m\u001b[0;34m.\u001b[0m\u001b[0mexists\u001b[0m\u001b[0;34m(\u001b[0m\u001b[0mpath\u001b[0m\u001b[0;34m)\u001b[0m\u001b[0;34m:\u001b[0m\u001b[0;34m\u001b[0m\u001b[0;34m\u001b[0m\u001b[0m\n\u001b[0;32m---> 20\u001b[0;31m         \u001b[0;32mraise\u001b[0m \u001b[0mException\u001b[0m\u001b[0;34m(\u001b[0m\u001b[0;34m'ROM is missing for %s, see https://github.com/openai/atari-py#roms for instructions'\u001b[0m \u001b[0;34m%\u001b[0m \u001b[0;34m(\u001b[0m\u001b[0mgame_name\u001b[0m\u001b[0;34m,\u001b[0m\u001b[0;34m)\u001b[0m\u001b[0;34m)\u001b[0m\u001b[0;34m\u001b[0m\u001b[0;34m\u001b[0m\u001b[0m\n\u001b[0m\u001b[1;32m     21\u001b[0m     \u001b[0;32mreturn\u001b[0m \u001b[0mpath\u001b[0m\u001b[0;34m\u001b[0m\u001b[0;34m\u001b[0m\u001b[0m\n\u001b[1;32m     22\u001b[0m \u001b[0;34m\u001b[0m\u001b[0m\n",
            "\u001b[0;31mException\u001b[0m: ROM is missing for pong, see https://github.com/openai/atari-py#roms for instructions"
          ]
        }
      ]
    },
    {
      "cell_type": "markdown",
      "metadata": {
        "id": "52uZ2Xhyi-MW"
      },
      "source": [
        "Let's next consider the observation space for the Pong environment. Instead of four physical descriptors of the cart-pole setup, in the case of Pong our observations are the individual video frames (i.e., images) that depict the state of the board. Thus, the observations are 210x160 RGB images (arrays of shape (210,160,3)).\n",
        "\n",
        "We can again confirm the size of the observation space by query:"
      ]
    },
    {
      "cell_type": "code",
      "metadata": {
        "id": "0yX4GWvxjnHS"
      },
      "source": [
        "print(\"Environment has observation space =\", env.observation_space)"
      ],
      "execution_count": null,
      "outputs": []
    },
    {
      "cell_type": "markdown",
      "metadata": {
        "id": "uuEC2TdSjx9D"
      },
      "source": [
        "In Pong, at every time step, the agent (which controls the paddle) has six actions to choose from: no-op (no operation), move right, move left, fire, fire right, and fire left. Let's confirm the size of the action space by querying the environment:"
      ]
    },
    {
      "cell_type": "code",
      "metadata": {
        "id": "Iuy9oPc1kag3"
      },
      "source": [
        "n_actions = env.action_space.n\n",
        "print(\"Number of possible actions that the agent can choose from =\", n_actions)"
      ],
      "execution_count": null,
      "outputs": []
    },
    {
      "cell_type": "markdown",
      "metadata": {
        "id": "9-fghDRigUE5"
      },
      "source": [
        "## 3.7 Define the Pong agent\n",
        "\n",
        "As before, we'll use a neural network to define our agent. What network architecture do you think would be especially well suited to this game? Since our observations are now in the form of images, we'll add convolutional layers to the network to increase the learning capacity of our network. Note that you will be tasked with completing a template CNN architecture for the Pong agent -- but you should certainly experiment beyond this template to try to optimize performance!"
      ]
    },
    {
      "cell_type": "code",
      "metadata": {
        "id": "IJiqbFYpgYRH"
      },
      "source": [
        "### Define the Pong agent ###\n",
        "\n",
        "# Functionally define layers for convenience\n",
        "# All convolutional layers will have ReLu activation\n",
        "Conv2D = functools.partial(tf.keras.layers.Conv2D, padding='same', activation='relu')\n",
        "Flatten = tf.keras.layers.Flatten\n",
        "Dense = tf.keras.layers.Dense\n",
        "\n",
        "# Defines a CNN for the Pong agent\n",
        "def create_pong_model():\n",
        "  model = tf.keras.models.Sequential([\n",
        "    # Convolutional layers\n",
        "    # First, 32 5x5 filters and 2x2 stride\n",
        "    Conv2D(filters=32, kernel_size=5, strides=2),\n",
        "\n",
        "    '''TODO: define convolutional layers with 48 5x5 filters and 2x2 stride'''\n",
        "    # [your Conv layer here]\n",
        "\n",
        "    '''TODO: define two convolutional layers with 64 3x3 filters and 2x2 stride'''\n",
        "    # [your Conv layers here]\n",
        "\n",
        "    Flatten(),\n",
        "    \n",
        "    # Fully connected layer and output\n",
        "    Dense(units=128, activation='relu'),\n",
        "\n",
        "    '''TODO: define the output dimension of the last Dense layer. \n",
        "    Pay attention to the space the agent needs to act in'''\n",
        "    # [TODO: your Dense layer here]\n",
        "  \n",
        "  ])\n",
        "  return model\n",
        "\n",
        "pong_model = create_pong_model()"
      ],
      "execution_count": null,
      "outputs": []
    },
    {
      "cell_type": "markdown",
      "metadata": {
        "id": "yaeZ067olFiJ"
      },
      "source": [
        "Since we've already defined the action function, `choose_action(model, observation)`, we don't need to define it again. Instead, we'll be able to reuse it later on by passing in our new model we've just created, `pong_model`. This is awesome because our action function provides a modular and generalizable method for all sorts of RL agents!"
      ]
    },
    {
      "cell_type": "markdown",
      "metadata": {
        "id": "l0RvqOVkmc2r"
      },
      "source": [
        "## 3.8 Pong-specific functions\n",
        "\n",
        "In Part 1 (Cartpole), we implemented some key functions and classes to build and train our RL agent -- `choose_action(model, observation)` and the `Memory` class, for example. However, in getting ready to apply these to a new game like Pong, we might need to make some slight modifications. \n",
        "\n",
        "Namely, we need to think about what happens when a game ends. In Pong, we know a game has ended if the reward is +1 (we won!) or -1 (we lost unfortunately). Otherwise, we expect the reward at a timestep to be zero -- the players (or agents) are just playing eachother. So, after a game ends, we will need to reset the reward to zero when a game ends. This will result in a modified reward function."
      ]
    },
    {
      "cell_type": "code",
      "metadata": {
        "id": "iEZG2o50luLu"
      },
      "source": [
        "### Pong reward function ###\n",
        "\n",
        "# Compute normalized, discounted rewards for Pong (i.e., return)\n",
        "# Arguments:\n",
        "#   rewards: reward at timesteps in episode\n",
        "#   gamma: discounting factor. Note increase to 0.99 -- rate of depreciation will be slower.\n",
        "# Returns:\n",
        "#   normalized discounted reward\n",
        "def discount_rewards(rewards, gamma=0.99): \n",
        "  discounted_rewards = np.zeros_like(rewards)\n",
        "  R = 0\n",
        "  for t in reversed(range(0, len(rewards))):\n",
        "      # NEW: Reset the sum if the reward is not 0 (the game has ended!)\n",
        "      if rewards[t] != 0:\n",
        "        R = 0\n",
        "      # update the total discounted reward as before\n",
        "      R = R * gamma + rewards[t]\n",
        "      discounted_rewards[t] = R\n",
        "      \n",
        "  return normalize(discounted_rewards)"
      ],
      "execution_count": null,
      "outputs": []
    },
    {
      "cell_type": "markdown",
      "metadata": {
        "id": "HopLpb4IoOqA"
      },
      "source": [
        "Additionally, we have to consider the nature of the observations in the Pong environment, and how they will be fed into our network. Our observations in this case are images. Before we input an image into our network, we'll do a bit of pre-processing to crop and scale, clean up the background colors to a single color, and set the important game elements to a single color. Let's use this function to visualize what a single observation might look like before and after pre-processing."
      ]
    },
    {
      "cell_type": "code",
      "metadata": {
        "id": "no5IIYtFm8pI"
      },
      "source": [
        "observation = env.reset()\n",
        "for i in range(30):\n",
        "  action = np.random.choice(n_actions)\n",
        "  observation, _,_,_ = env.step(action)\n",
        "observation_pp = mdl.lab3.preprocess_pong(observation)\n",
        "\n",
        "f = plt.figure(figsize=(10,3))\n",
        "ax = f.add_subplot(121)\n",
        "ax2 = f.add_subplot(122)\n",
        "ax.imshow(observation); ax.grid(False);\n",
        "ax2.imshow(np.squeeze(observation_pp)); ax2.grid(False); plt.title('Preprocessed Observation');"
      ],
      "execution_count": null,
      "outputs": []
    },
    {
      "cell_type": "markdown",
      "metadata": {
        "id": "YBLVfdpv7ajG"
      },
      "source": [
        "Let's also consider the fact that, unlike CartPole, the Pong environment has an additional element of uncertainty -- regardless of what action the agent takes, we don't know how the opponent will play. That is, the environment is changing over time, based on *both* the actions we take and the actions of the opponent, which result in motion of the ball and motion of the paddles.\n",
        "\n",
        "Therefore, to capture the dynamics, we also consider how the environment changes by looking at the difference between a previous observation (image frame) and the current observation (image frame). We've implemented a helper function, `pong_change`, that pre-processes two frames, calculates the change between the two, and then re-normalizes the values. Let's inspect this to visualize how the environment can change:"
      ]
    },
    {
      "cell_type": "code",
      "metadata": {
        "id": "ItWrUwM87ZBw"
      },
      "source": [
        "next_observation, _,_,_ = env.step(np.random.choice(n_actions))\n",
        "diff = mdl.lab3.pong_change(observation, next_observation)\n",
        "\n",
        "f, ax = plt.subplots(1, 3, figsize=(15,15))\n",
        "for a in ax:\n",
        "  a.grid(False)\n",
        "  a.axis(\"off\")\n",
        "ax[0].imshow(observation); ax[0].set_title('Previous Frame');\n",
        "ax[1].imshow(next_observation); ax[1].set_title('Current Frame');\n",
        "ax[2].imshow(np.squeeze(diff)); ax[2].set_title('Difference (Model Input)');"
      ],
      "execution_count": null,
      "outputs": []
    },
    {
      "cell_type": "markdown",
      "metadata": {
        "id": "bYwIWC-Cz8F2"
      },
      "source": [
        "What do you notice? How and why might these pre-processing changes be important for training our RL algorithm? How and why might consideration of the difference between frames be important for training and performance?"
      ]
    },
    {
      "cell_type": "markdown",
      "metadata": {
        "id": "YiJLu9SEAJu6"
      },
      "source": [
        "### Rollout function\n",
        "\n",
        "We're now set up to define our key action algorithm for the game of Pong, which will ultimately be used to train our Pong agent. This function can be thought of as a \"rollout\", where the agent will 1) make an observation of the environment, 2) select an action based on its state in the environment, 3) execute a policy based on that action, resulting in some reward and a change to the environment, and 4) finally add memory of that action-reward to its `Memory` buffer. We will define this algorithm in the `collect_rollout` function below, and use it soon within a training block.\n",
        "\n",
        "Earlier you visually inspected the raw environment frames, the pre-processed frames, and the difference between previous and current frames. As you may have gathered, in a dynamic game like Pong, it can actually be helpful to consider the difference between two consecutive observations. This gives us information about the movement between frames -- how the game is changing. We will do this using the `pong_change` function we explored above (which also pre-processes frames for us).\n",
        "\n",
        "We will use differences between frames as the input on which actions will be selected. These observation changes will be forward propagated through our Pong agent, the CNN network model, which will then predict the next action to take based on this observation. The raw reward will be computed. The observation, action, and reward will be recorded into memory. This will loop until a particular game ends -- the rollout is completed.\n",
        "\n",
        "For now, we will define `collect_rollout` such that a batch of observations (i.e., from a batch of agent-environment worlds) can be processed serially (i.e., one at a time, in sequence). We will later utilize a parallelized version of this function that will parallelize batch processing to help speed up training! Let's get to it."
      ]
    },
    {
      "cell_type": "code",
      "metadata": {
        "id": "CH9C4JXUOyv-"
      },
      "source": [
        "### Rollout function ###\n",
        "\n",
        "# Key steps for agent's operation in the environment, until completion of a rollout.\n",
        "# An observation is drawn; the agent (controlled by model) selects an action;\n",
        "#   the agent executes that action in the environment and collects rewards;\n",
        "#   information is added to memory.\n",
        "# This is repeated until the completion of the rollout -- the Pong game ends.\n",
        "# Processes multiple batches serially.\n",
        "#\n",
        "# Arguments:\n",
        "#   batch_size: number of batches, to be processed serially\n",
        "#   env: environment\n",
        "#   model: Pong agent model\n",
        "#   choose_action: choose_action function\n",
        "# Returns:\n",
        "#   memories: array of Memory buffers, of length batch_size, corresponding to the\n",
        "#     episode executions from the rollout\n",
        "def collect_rollout(batch_size, env, model, choose_action):\n",
        "\n",
        "  # Holder array for the Memory buffers\n",
        "  memories = []\n",
        "\n",
        "  # Process batches serially by iterating through them\n",
        "  for b in range(batch_size):\n",
        "\n",
        "    # Instantiate Memory buffer, restart the environment\n",
        "    memory = Memory()\n",
        "    next_observation = env.reset()\n",
        "    previous_frame = next_observation\n",
        "    done = False # tracks whether the episode (game) is done or not\n",
        "\n",
        "    while not done:\n",
        "\n",
        "      current_frame = next_observation\n",
        "\n",
        "      '''TODO: determine the observation change.\n",
        "      Hint: this is the difference between the past two frames'''\n",
        "      frame_diff = # TODO\n",
        "\n",
        "      '''TODO: choose an action for the pong model, using the frame difference, and evaluate'''\n",
        "      action = # TODO\n",
        "\n",
        "      # Take the chosen action\n",
        "      next_observation, reward, done, info = env.step(action)\n",
        "\n",
        "      '''TODO: save the observed frame difference, the action that was taken, and the resulting reward!'''\n",
        "      memory.add_to_memory('''TODO''', '''TODO''', '''TODO''')\n",
        "\n",
        "      previous_frame = current_frame\n",
        "    \n",
        "    # Add the memory from this batch to the array of all Memory buffers\n",
        "    memories.append(memory)\n",
        "  \n",
        "  return memories"
      ],
      "execution_count": null,
      "outputs": []
    },
    {
      "cell_type": "markdown",
      "metadata": {
        "id": "NGIJvFUHHbDi"
      },
      "source": [
        "To get a sense of what is encapsulated by `collect_rollout`, we will instantiate an *untrained* Pong model, run a single rollout using this model, save the memory, and play back the observations the model sees. Note that these will be frame *differences*."
      ]
    },
    {
      "cell_type": "code",
      "metadata": {
        "id": "msNBRcULHbrd"
      },
      "source": [
        "### Rollout with untrained Pong model ###\n",
        "\n",
        "# Model\n",
        "test_model = create_pong_model()\n",
        "\n",
        "# Rollout with single batch\n",
        "single_batch_size = 1\n",
        "memories = collect_rollout(single_batch_size, env, test_model, choose_action)\n",
        "rollout_video = mdl.lab3.save_video_of_memory(memories[0], \"Pong-Random-Agent.mp4\")\n",
        "\n",
        "# Play back video of memories\n",
        "mdl.lab3.play_video(rollout_video)"
      ],
      "execution_count": null,
      "outputs": []
    },
    {
      "cell_type": "markdown",
      "metadata": {
        "id": "mRqcaDQ1pm3x"
      },
      "source": [
        "## 3.9 Training Pong\n",
        "\n",
        "We're now all set up to start training our RL algorithm and agent for the game of Pong! We've already defined the following:\n",
        "\n",
        "1. Loss function, `compute_loss`, and backpropagation step, `train_step`. Our loss function employs policy gradient learning. `train_step` executes a single forward pass and backpropagation gradient update.\n",
        "2. RL agent algorithm: `collect_rollout`. Serially processes batches of episodes, executing actions in the environment, collecting rewards, and saving these to `Memory`.\n",
        "\n",
        "We will use these functions to train the Pong agent.\n",
        "\n",
        "In the training block, episodes will be executed by agents in the environment via the RL algorithm defined in the `collect_rollout` function. Since RL agents start off with literally zero knowledge of their environment, it can often take a long time to train them and achieve stable behavior. To alleviate this, we have implemented a parallelized version of the RL algorithm, `parallelized_collect_rollout`, which you can use to accelerate training across multiple parallel batches.\n",
        "\n",
        "For training, information in the `Memory` buffer from all these batches will be aggregated (after all episodes, i.e., games, end). Discounted rewards will be computed, and this information will be used to execute a training step. Memory will be cleared, and we will do it all over again!\n",
        "\n",
        "Let's run the code block to train our Pong agent. Note that, even with parallelization, completing training and getting stable behavior will take quite a bit of time (estimated at least a couple of hours). We will again visualize the evolution of the total reward as a function of training to get a sense of how the agent is learning."
      ]
    },
    {
      "cell_type": "code",
      "metadata": {
        "id": "FaEHTMRVMRXP"
      },
      "source": [
        "### Hyperparameters and setup for training ###\n",
        "# Rerun this cell if you want to re-initialize the training process\n",
        "#   (i.e., create new model, reset loss, etc)\n",
        "\n",
        "# Hyperparameters\n",
        "learning_rate = 1e-3\n",
        "MAX_ITERS = 1000 # increase the maximum to train longer\n",
        "batch_size = 5 # number of batches to run\n",
        "\n",
        "# Model, optimizer\n",
        "pong_model = create_pong_model()\n",
        "optimizer = tf.keras.optimizers.Adam(learning_rate)\n",
        "iteration = 0 # counter for training steps\n",
        "\n",
        "# Plotting\n",
        "smoothed_reward = mdl.util.LossHistory(smoothing_factor=0.9)\n",
        "smoothed_reward.append(0) # start the reward at zero for baseline comparison\n",
        "plotter = mdl.util.PeriodicPlotter(sec=15, xlabel='Iterations', ylabel='Win Percentage (%)')\n",
        "\n",
        "# Batches and environment\n",
        "# To parallelize batches, we need to make multiple copies of the environment.\n",
        "envs = [create_pong_env() for _ in range(batch_size)] # For parallelization"
      ],
      "execution_count": null,
      "outputs": []
    },
    {
      "cell_type": "code",
      "metadata": {
        "id": "xCwyQQrPnkZG"
      },
      "source": [
        "### Training Pong ###\n",
        "# You can run this cell and stop it anytime in the middle of training to save \n",
        "#   a progress video (see next codeblock). To continue training, simply run this \n",
        "#   cell again, your model will pick up right where it left off. To reset training,\n",
        "#   you need to run the cell above. \n",
        "\n",
        "games_to_win_episode = 21 # this is set by OpenAI gym and cannot be changed.\n",
        "\n",
        "# Main training loop\n",
        "while iteration < MAX_ITERS:\n",
        "\n",
        "  plotter.plot(smoothed_reward.get())\n",
        "\n",
        "  tic = time.time()\n",
        "  # RL agent algorithm. By default, uses serial batch processing.\n",
        "  # memories = collect_rollout(batch_size, env, pong_model, choose_action)\n",
        "\n",
        "  # Parallelized version. Uncomment line below (and comment out line above) to parallelize\n",
        "  memories = mdl.lab3.parallelized_collect_rollout(batch_size, envs, pong_model, choose_action)\n",
        "  print(time.time()-tic)\n",
        "\n",
        "  # Aggregate memories from multiple batches\n",
        "  batch_memory = aggregate_memories(memories)\n",
        "\n",
        "  # Track performance based on win percentage (calculated from rewards)\n",
        "  total_wins = sum(np.array(batch_memory.rewards) == 1)\n",
        "  total_games = sum(np.abs(np.array(batch_memory.rewards)))\n",
        "  win_rate = total_wins / total_games\n",
        "  smoothed_reward.append(100 * win_rate)\n",
        "  \n",
        "  # Training!\n",
        "  train_step(\n",
        "      pong_model,\n",
        "      optimizer,\n",
        "      observations = np.stack(batch_memory.observations, 0),\n",
        "      actions = np.array(batch_memory.actions),\n",
        "      discounted_rewards = discount_rewards(batch_memory.rewards)\n",
        "  )\n",
        "\n",
        "  # Save a video of progress -- this can be played back later\n",
        "  if iteration % 100 == 0:\n",
        "    mdl.lab3.save_video_of_model(pong_model, \"Pong-v0\", \n",
        "                                                suffix=\"_\"+str(iteration))\n",
        "    \n",
        "  iteration += 1 # Mark next episode"
      ],
      "execution_count": null,
      "outputs": []
    },
    {
      "cell_type": "markdown",
      "metadata": {
        "id": "8LiEY5Y_ts-Z"
      },
      "source": [
        "Finally we can put our trained agent to the test! It will play in a newly instantiated Pong environment against the \"computer\", a base AI system for Pong. Your agent plays as the green paddle. Let's watch the match instant replay!"
      ]
    },
    {
      "cell_type": "code",
      "metadata": {
        "id": "TvHXbkL0tR6M"
      },
      "source": [
        "latest_pong = mdl.lab3.save_video_of_model(\n",
        "    pong_model, \"Pong-v0\", suffix=\"_latest\")\n",
        "mdl.lab3.play_video(latest_pong, width=400)"
      ],
      "execution_count": null,
      "outputs": []
    },
    {
      "cell_type": "markdown",
      "metadata": {
        "id": "TIlwIgBP3Js6"
      },
      "source": [
        "## 3.10 Conclusion and submission information\n",
        "\n",
        "That's it! Congratulations on training two RL agents and putting them to the test! We encourage you to consider the following:\n",
        "\n",
        "*   How does the agent perform?\n",
        "*   Could you train it for shorter amounts of time  and still perform well?\n",
        "* What are some limitations of the current representation i.e., difference of current and previous frames? How is this reflected in the agent's behavior? What could be done to generate an improved representation?\n",
        "* How does the complexity of Pong relative to CartPole alter the rate at which the agent learns and its performance? \n",
        "* What are some things you could change about the agent or the learning process to potentially improve performance?\n",
        "\n",
        "Try to optimize your **Pong** model and algorithm to achieve improved performance.  **MIT students and affiliates will be eligible for prizes during the IAP offering.** To enter the competition, MIT students and affiliates should upload the following to the course Canvas:\n",
        "\n",
        "* Jupyter notebook with the code you used to generate your results, **with the Pong training executed**;\n",
        "* saved video of your Pong agent competing;\n",
        "* a description and/or diagram of the architecture, settings, and hyperparameters you used to generate your result -- if there are any additional or interesting modifications you made to the template code, please include these in your description;\n",
        "* discussion of why these modifications helped improve performance.\n",
        "\n",
        "Good luck!"
      ]
    }
  ]
}